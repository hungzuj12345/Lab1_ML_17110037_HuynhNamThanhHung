{
  "nbformat": 4,
  "nbformat_minor": 0,
  "metadata": {
    "colab": {
      "name": "SVM.ipynb",
      "provenance": [],
      "collapsed_sections": [],
      "authorship_tag": "ABX9TyM0Ecw6M/Qt/+nkWF/gMswX",
      "include_colab_link": true
    },
    "kernelspec": {
      "name": "python3",
      "display_name": "Python 3"
    }
  },
  "cells": [
    {
      "cell_type": "markdown",
      "metadata": {
        "id": "view-in-github",
        "colab_type": "text"
      },
      "source": [
        "<a href=\"https://colab.research.google.com/github/hungzuj12345/Lab1_ML_17110037_HuynhNamThanhHung/blob/main/SVM.ipynb\" target=\"_parent\"><img src=\"https://colab.research.google.com/assets/colab-badge.svg\" alt=\"Open In Colab\"/></a>"
      ]
    },
    {
      "cell_type": "markdown",
      "metadata": {
        "id": "xEEmkpQOoArq"
      },
      "source": [
        "Simple SVM\n"
      ]
    },
    {
      "cell_type": "code",
      "metadata": {
        "id": "Tp7B_N7Fk_KR",
        "outputId": "eb68e076-c6e2-46d0-cfbe-994c6806ca07",
        "colab": {
          "base_uri": "https://localhost:8080/",
          "height": 238
        }
      },
      "source": [
        "import pandas as pd\n",
        "import numpy as np\n",
        "import matplotlib.pyplot as plt\n",
        "from sklearn import preprocessing\n",
        "\n",
        "%matplotlib inline\n",
        "\n",
        "irisdata = pd.read_csv(\"https://archive.ics.uci.edu/ml/machine-learning-databases/lung-cancer/lung-cancer.data\")\n",
        "\n",
        "irisdata.shape\n",
        "irisdata.head()\n",
        "\n",
        "\n",
        "le = preprocessing.LabelEncoder()\n",
        "irisdata = irisdata.apply(le.fit_transform)\n",
        "    \n",
        "X = irisdata.drop('1', axis=1)\n",
        "y = irisdata['1']\n",
        "\n",
        "from sklearn.model_selection import train_test_split\n",
        "X_train, X_test, y_train, y_test = train_test_split(X, y, test_size = 0.20)\n",
        "\n",
        "from sklearn.svm import SVC\n",
        "svclassifier = SVC(kernel='linear')\n",
        "svclassifier.fit(X_train, y_train)\n",
        "\n",
        "y_pred = svclassifier.predict(X_test)\n",
        "\n",
        "from sklearn.metrics import classification_report, confusion_matrix\n",
        "print(confusion_matrix(y_test,y_pred))\n",
        "print(classification_report(y_test,y_pred))"
      ],
      "execution_count": 17,
      "outputs": [
        {
          "output_type": "stream",
          "text": [
            "[[1 1 0]\n",
            " [2 0 0]\n",
            " [0 1 2]]\n",
            "              precision    recall  f1-score   support\n",
            "\n",
            "           0       0.33      0.50      0.40         2\n",
            "           1       0.00      0.00      0.00         2\n",
            "           2       1.00      0.67      0.80         3\n",
            "\n",
            "    accuracy                           0.43         7\n",
            "   macro avg       0.44      0.39      0.40         7\n",
            "weighted avg       0.52      0.43      0.46         7\n",
            "\n"
          ],
          "name": "stdout"
        }
      ]
    }
  ]
}